{
 "cells": [
  {
   "cell_type": "code",
   "execution_count": 7,
   "id": "31c83cb4",
   "metadata": {},
   "outputs": [],
   "source": [
    "import lsst.daf.butler as dafButler\n",
    "from lsst.daf.butler import DatasetRef, DatasetType\n",
    "butler = dafButler.Butler('/repo/dc2/')"
   ]
  },
  {
   "cell_type": "code",
   "execution_count": 5,
   "id": "814f6940",
   "metadata": {},
   "outputs": [
    {
     "name": "stdout",
     "output_type": "stream",
     "text": [
      "Found 5\n",
      "u/nsedaghat/test_rbClassify/20220715T223914Z {}\n",
      "u/nsedaghat/test_rbClassify/20220715T223914Z {}\n",
      "u/nsedaghat/test_rbClassify/20220715T223914Z {band: 'r', instrument: 'LSSTCam-imSim', detector: 100, physical_filter: 'r_sim_1.4', visit: 1233953}\n",
      "u/nsedaghat/test_rbClassify/20220715T223914Z {band: 'r', instrument: 'LSSTCam-imSim', detector: 100, physical_filter: 'r_sim_1.4', visit: 1233953}\n",
      "u/nsedaghat/test_rbClassify/20220715T223914Z {band: 'r', instrument: 'LSSTCam-imSim', detector: 100, physical_filter: 'r_sim_1.4', visit: 1233953}\n"
     ]
    },
    {
     "data": {
      "text/plain": [
       "[DatasetRef(DatasetType('packages', {}, Packages), {}, id=b28aa902-aa8c-44b0-979a-1b8fb2413fa2, run='u/nsedaghat/test_rbClassify/20220715T223914Z'),\n",
       " DatasetRef(DatasetType('rbClassify_config', {}, Config), {}, id=316fec53-f97a-419f-960a-a63ac7b7c082, run='u/nsedaghat/test_rbClassify/20220715T223914Z'),\n",
       " DatasetRef(DatasetType('goodSeeingRealBogusSources', {band, instrument, detector, physical_filter, visit}, Catalog), {instrument: 'LSSTCam-imSim', detector: 100, visit: 1233953, ...}, id=d98a40e4-a743-4b58-aa62-d39597d8d6a5, run='u/nsedaghat/test_rbClassify/20220715T223914Z'),\n",
       " DatasetRef(DatasetType('rbClassify_log', {band, instrument, detector, physical_filter, visit}, ButlerLogRecords), {instrument: 'LSSTCam-imSim', detector: 100, visit: 1233953, ...}, id=47bdf9b8-7f92-40c3-aced-eff4958f5f12, run='u/nsedaghat/test_rbClassify/20220715T223914Z'),\n",
       " DatasetRef(DatasetType('rbClassify_metadata', {band, instrument, detector, physical_filter, visit}, TaskMetadata), {instrument: 'LSSTCam-imSim', detector: 100, visit: 1233953, ...}, id=e19dc034-e614-40b7-870b-8e3f0024fb2b, run='u/nsedaghat/test_rbClassify/20220715T223914Z')]"
      ]
     },
     "execution_count": 5,
     "metadata": {},
     "output_type": "execute_result"
    }
   ],
   "source": [
    "from reg_tools import list_datasets\n",
    "list_datasets(butler,collections='u/nsedaghat/test_rbClassify/20220715T223914Z', dataID='',datasetType='*')"
   ]
  },
  {
   "cell_type": "code",
   "execution_count": 9,
   "id": "f26094ee",
   "metadata": {},
   "outputs": [
    {
     "name": "stdout",
     "output_type": "stream",
     "text": [
      "Found 1\n",
      "u/nsedaghat/test_rbClassify/20220715T223914Z {band: 'r', instrument: 'LSSTCam-imSim', detector: 100, physical_filter: 'r_sim_1.4', visit: 1233953}\n"
     ]
    }
   ],
   "source": [
    "r = list_datasets(butler,\n",
    "                  collections='u/nsedaghat/test_rbClassify/20220715T223914Z', \n",
    "                  dataID='',\n",
    "                  datasetType='goodSeeingRealBogusSources')"
   ]
  },
  {
   "cell_type": "code",
   "execution_count": 11,
   "id": "c1b3744a",
   "metadata": {},
   "outputs": [
    {
     "data": {
      "text/plain": [
       "<class 'lsst.afw.table.BaseCatalog'>\n",
       "        id                 score         \n",
       "------------------ ----------------------\n",
       "662473526162227323     0.5011907815933228\n",
       "662473526162227324     0.5011907815933228\n",
       "662473526162227325                    nan\n",
       "662473526162227326     0.9790309071540833\n",
       "662473526162227327     0.6868907809257507\n",
       "662473526162227328   0.003511634888127446\n",
       "662473526162227329    0.43399742245674133\n",
       "662473526162227330     0.9759954810142517\n",
       "662473526162227331     0.9994556307792664\n",
       "662473526162227332     0.9526575803756714\n",
       "662473526162227333     0.9966273903846741\n",
       "662473526162227334     0.5011907815933228\n",
       "662473526162227335      0.957602322101593\n",
       "662473526162227336     0.5011907815933228\n",
       "662473526162227337     0.5011907815933228\n",
       "662473526162227338     0.6611521244049072\n",
       "662473526162227339                    1.0\n",
       "662473526162227340     0.9719346761703491\n",
       "662473526162227341      0.999970555305481\n",
       "662473526162227342    0.15072068572044373\n",
       "662473526162227343    0.42947250604629517\n",
       "662473526162227344     0.9993197917938232\n",
       "662473526162227345                    1.0\n",
       "662473526162227346    0.08969760686159134\n",
       "662473526162227347    0.36863529682159424\n",
       "662473526162227348  3.272341473348206e-07\n",
       "662473526162227349      0.539085865020752\n",
       "662473526162227350 1.5441625578205276e-07\n",
       "               ...                    ...\n",
       "662473526162227470    0.19352954626083374\n",
       "662473526162227471     0.5011907815933228\n",
       "662473526162227472     0.9515146017074585\n",
       "662473526162227473     0.9666961431503296\n",
       "662473526162227474     0.9611942768096924\n",
       "662473526162227475    0.06404948234558105\n",
       "662473526162227476     0.9930920600891113\n",
       "662473526162227477     0.9804270267486572\n",
       "662473526162227478     0.9063056111335754\n",
       "662473526162227479     0.8299263119697571\n",
       "662473526162227480     0.5011907815933228\n",
       "662473526162227481     0.9941180944442749\n",
       "662473526162227482     0.9850696921348572\n",
       "662473526162227483     0.8709216713905334\n",
       "662473526162227484     0.5011907815933228\n",
       "662473526162227485     0.9473248720169067\n",
       "662473526162227486     0.5582550764083862\n",
       "662473526162227487     0.9954633116722107\n",
       "662473526162227488     0.9484170079231262\n",
       "662473526162227489     0.9487133622169495\n",
       "662473526162227490     0.9750280380249023\n",
       "662473526162227491    0.09448765218257904\n",
       "662473526162227492     0.9818060398101807\n",
       "662473526162227493  0.0017934368224814534\n",
       "662473526162227494     0.9929752349853516\n",
       "662473526162227495     0.9999434947967529\n",
       "662473526162227496     0.9999998807907104\n",
       "662473526162227497     0.9500482678413391\n",
       "662473526162227498     0.9865713715553284\n",
       "Length = 176 rows"
      ]
     },
     "execution_count": 11,
     "metadata": {},
     "output_type": "execute_result"
    }
   ],
   "source": [
    "table = butler.getDirect(r[0])\n",
    "table"
   ]
  }
 ],
 "metadata": {
  "kernelspec": {
   "display_name": "Python 3 (ipykernel)",
   "language": "python",
   "name": "python3"
  },
  "language_info": {
   "codemirror_mode": {
    "name": "ipython",
    "version": 3
   },
   "file_extension": ".py",
   "mimetype": "text/x-python",
   "name": "python",
   "nbconvert_exporter": "python",
   "pygments_lexer": "ipython3",
   "version": "3.10.5"
  }
 },
 "nbformat": 4,
 "nbformat_minor": 5
}
